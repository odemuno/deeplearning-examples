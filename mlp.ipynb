{
 "cells": [
  {
   "attachments": {},
   "cell_type": "markdown",
   "metadata": {},
   "source": [
    "# Multi-Layer Perceptron: Sentiment Analysis"
   ]
  },
  {
   "cell_type": "code",
   "execution_count": 29,
   "metadata": {},
   "outputs": [],
   "source": [
    "# import libraries\n",
    "import numpy as np\n",
    "from sklearn import metrics\n",
    "from sklearn.neural_network import MLPClassifier\n",
    "from sklearn.linear_model import Perceptron\n",
    "from sklearn.model_selection import train_test_split \n",
    "from sklearn.feature_extraction.text import TfidfVectorizer"
   ]
  },
  {
   "cell_type": "code",
   "execution_count": 30,
   "metadata": {},
   "outputs": [],
   "source": [
    "corpus = [\n",
    "    'We enjoyed our stay so much. The weather was not great, but everything else was perfect.',\n",
    "    'Going to think twice before staying here again. The wift was spotty and the rooms smaller than advertised.',\n",
    "    'The perfect place to relax and recharge.',\n",
    "    'Never had such a relaxina vacation.',\n",
    "    'The pictures were misleading, so I was expecting the common areas to be bigger. But the service was good.',\n",
    "    'There were no clean linens when I got to my room and the breakfast options were not that many.',\n",
    "    'Was expecting it to be a bit far from historical downtown, but it was almost impossible to drive through those narrow roads.',\n",
    "    'I thought that waking up with the chickens was fun, but I was wrong.',\n",
    "    'Great place for a quick getaway from the city. Everyone is friendly and polite.',\n",
    "    'Unfortunately it was raining during our stay, and there weren\\'t many options for indoors activities. Everything was great, but there was literally no other options besides being in the rain.',\n",
    "    'The town festival was postponed, so the area was a complete ghost town. We were the only guests. Not the experience I was looking for.',\n",
    "    'We had a lovely time. It\\'s a fantastic place to go with the children, they loved all the animals.',\n",
    "    'A little bit off the beaten track, but completely worth it. You can hear the birds sing in the morning and then you are greeted with the biggest, sincerest smiles from the owners. Loved it!',\n",
    "    'It was good to be outside in the country, visiting old town. Everything was prepared to the upmost detail'\n",
    "    'staff was friendly. Going to come back for sure.',\n",
    "    'They didn\\'t have enough staff for the amount of guests. It took some time to get our breakfast and we had to wait 20 minutes to get more information about the old town.',\n",
    "    'The pictures looked way different.',\n",
    "    'Best weekend in the countryside I\\'ve ever had.',\n",
    "    'Terrible. Slow staff. slow town. Only good thing was being surrounded by nature.',\n",
    "    'Not as clean as advertised. Found some cobwebs in the corner of the room.',\n",
    "    'It was a peaceful getaway in the countryside.',\n",
    "    'Everyone was nice. Had a good time.',\n",
    "    'The kids loved running around in nature, we loved the old town. Definitely going back.',\n",
    "    'Had worse experiences.',\n",
    "    'Surprised this was much different than what was on the website.',\n",
    "    'Not that mindblowing.'\n",
    "]"
   ]
  },
  {
   "cell_type": "code",
   "execution_count": 31,
   "metadata": {},
   "outputs": [],
   "source": [
    "# 0: negative sentiment, 1: positive sentiment\n",
    "targets = [1,0,1,1,1,0,0,0,1,0,0,1,1,1,0,0,1,0,0,1,1,1,1,0,0]"
   ]
  },
  {
   "cell_type": "code",
   "execution_count": 32,
   "metadata": {},
   "outputs": [],
   "source": [
    "# split dataset\n",
    "x_train, x_test, y_train, y_test = train_test_split(corpus, targets, test_size=0.1, random_state=123)"
   ]
  },
  {
   "cell_type": "code",
   "execution_count": 33,
   "metadata": {},
   "outputs": [
    {
     "name": "stdout",
     "output_type": "stream",
     "text": [
      "Number of X train data points:  22\n",
      "Number of X test data points:  3\n",
      "Number of Y train data points:  22\n",
      "Number of Y test data points:  3\n"
     ]
    }
   ],
   "source": [
    "print(\"Number of X train data points: \", len(x_train))\n",
    "print(\"Number of X test data points: \", len(x_test))\n",
    "print(\"Number of Y train data points: \", len(y_train))\n",
    "print(\"Number of Y test data points: \", len(y_test))"
   ]
  },
  {
   "cell_type": "code",
   "execution_count": 34,
   "metadata": {},
   "outputs": [
    {
     "data": {
      "text/plain": [
       "'Not as clean as advertised. Found some cobwebs in the corner of the room.'"
      ]
     },
     "execution_count": 34,
     "metadata": {},
     "output_type": "execute_result"
    }
   ],
   "source": [
    "x_train[0]"
   ]
  },
  {
   "cell_type": "code",
   "execution_count": 35,
   "metadata": {},
   "outputs": [],
   "source": [
    "# turn corpus into tf-idf array\n",
    "vectorizer = TfidfVectorizer(stop_words='english', lowercase=True, norm='l1')"
   ]
  },
  {
   "cell_type": "code",
   "execution_count": 36,
   "metadata": {},
   "outputs": [],
   "source": [
    "x_train = vectorizer.fit_transform(x_train) \n",
    "x_test = vectorizer.transform(x_test) "
   ]
  },
  {
   "cell_type": "code",
   "execution_count": 37,
   "metadata": {},
   "outputs": [
    {
     "data": {
      "text/plain": [
       "<1x120 sparse matrix of type '<class 'numpy.float64'>'\n",
       "\twith 5 stored elements in Compressed Sparse Row format>"
      ]
     },
     "execution_count": 37,
     "metadata": {},
     "output_type": "execute_result"
    }
   ],
   "source": [
    "x_train[0]"
   ]
  },
  {
   "attachments": {},
   "cell_type": "markdown",
   "metadata": {},
   "source": [
    "## Build Perceptron"
   ]
  },
  {
   "cell_type": "code",
   "execution_count": 47,
   "metadata": {},
   "outputs": [],
   "source": [
    "def buildPerceptron(x_train, x_test, y_train, y_test):\n",
    "    '''\n",
    "    Build a Perceptron and fit the data\n",
    "    '''\n",
    "    classifier = Perceptron(random_state=457)\n",
    "    classifier.fit(x_train, y_train)\n",
    "\n",
    "    predictions = classifier.predict(x_test)\n",
    "    score = np.round(metrics.accuracy_score(y_test, predictions), 2)\n",
    "    print(\"Mean accuracy of predictions: \" + str(score))\n",
    "    "
   ]
  },
  {
   "cell_type": "code",
   "execution_count": 48,
   "metadata": {},
   "outputs": [
    {
     "name": "stdout",
     "output_type": "stream",
     "text": [
      "Mean accuracy of predictions: 0.67\n"
     ]
    }
   ],
   "source": [
    "buildPerceptron(x_train, x_test, y_train, y_test)"
   ]
  },
  {
   "attachments": {},
   "cell_type": "markdown",
   "metadata": {},
   "source": [
    "67% is alright for a simple neural network, like Perceptron."
   ]
  },
  {
   "attachments": {},
   "cell_type": "markdown",
   "metadata": {},
   "source": [
    "## Build Multi-Layer Perceptron"
   ]
  },
  {
   "cell_type": "code",
   "execution_count": 55,
   "metadata": {},
   "outputs": [],
   "source": [
    "def buildMLPerceptron(x_train, x_test, y_train, y_test, num_neurons=5): # more neurons improve predictions\n",
    "    '''\n",
    "    Build a Multi-Layer Perceptron and fit the data\n",
    "    Activation: ReLU\n",
    "    Optimizer: SGD\n",
    "    Learning Rate: Inverse Scaling\n",
    "    '''\n",
    "    classifier = MLPClassifier(hidden_layer_sizes=num_neurons, max_iter=35, activation='relu', solver='sgd', verbose=10, random_state=762, learning_rate='invscaling')\n",
    "    classifier.fit(x_train, y_train)\n",
    "\n",
    "    predictions = classifier.predict(x_test)\n",
    "    score = np.round(metrics.accuracy_score(y_test, predictions), 2)\n",
    "    print(\"Mean accuracy of predictions: \" + str(score))"
   ]
  },
  {
   "cell_type": "code",
   "execution_count": 56,
   "metadata": {},
   "outputs": [
    {
     "name": "stdout",
     "output_type": "stream",
     "text": [
      "Iteration 1, loss = 0.70892413\n",
      "Iteration 2, loss = 0.70889080\n",
      "Iteration 3, loss = 0.70886966\n",
      "Iteration 4, loss = 0.70884896\n",
      "Iteration 5, loss = 0.70882863\n",
      "Iteration 6, loss = 0.70880874\n",
      "Iteration 7, loss = 0.70878936\n",
      "Iteration 8, loss = 0.70877054\n",
      "Iteration 9, loss = 0.70875230\n",
      "Iteration 10, loss = 0.70873467\n",
      "Iteration 11, loss = 0.70871763\n",
      "Iteration 12, loss = 0.70870119\n",
      "Training loss did not improve more than tol=0.000100 for 10 consecutive epochs. Stopping.\n",
      "Mean accuracy of predictions: 0.67\n"
     ]
    }
   ],
   "source": [
    "# build MLP with 3 hidden layers, each with 5 neurons\n",
    "buildMLPerceptron(x_train, x_test, y_train, y_test)"
   ]
  }
 ],
 "metadata": {
  "kernelspec": {
   "display_name": "dlprojenv",
   "language": "python",
   "name": "python3"
  },
  "language_info": {
   "codemirror_mode": {
    "name": "ipython",
    "version": 3
   },
   "file_extension": ".py",
   "mimetype": "text/x-python",
   "name": "python",
   "nbconvert_exporter": "python",
   "pygments_lexer": "ipython3",
   "version": "3.8.8"
  },
  "orig_nbformat": 4,
  "vscode": {
   "interpreter": {
    "hash": "1ba81ebffdb009abff183fb0ce4fd8e11f9d5e2cd171b71faf55b741d7eee14b"
   }
  }
 },
 "nbformat": 4,
 "nbformat_minor": 2
}
